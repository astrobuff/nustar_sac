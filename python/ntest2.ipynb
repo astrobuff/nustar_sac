{
 "cells": [
  {
   "cell_type": "markdown",
   "metadata": {},
   "source": [
    "**Warning** Work in progress notebook - only for testing purposes only of sunpy and nustar_pysolar"
   ]
  },
  {
   "cell_type": "code",
   "execution_count": 12,
   "metadata": {},
   "outputs": [],
   "source": [
    "# import nustar_convert\n",
    "# import importlib\n",
    "# importlib.reload(nustar_convert)\n"
   ]
  },
  {
   "cell_type": "code",
   "execution_count": 1,
   "metadata": {},
   "outputs": [
    {
     "name": "stdout",
     "output_type": "stream",
     "text": [
      "26d01m39.5229s\n",
      "26d01m39.5228s\n"
     ]
    },
    {
     "name": "stderr",
     "output_type": "stream",
     "text": [
      "WARNING: SunpyDeprecationWarning: The get_sun_P function is deprecated and may be removed in a future version.\n",
      "        Use sunpy.coordinates.sun.P instead. [sunpy.util.decorators]\n"
     ]
    }
   ],
   "source": [
    "from sunpy.coordinates import get_sun_P\n",
    "from sunpy.coordinates import sun\n",
    "\n",
    "print(get_sun_P())\n",
    "\n",
    "print(sun.P())"
   ]
  },
  {
   "cell_type": "code",
   "execution_count": 2,
   "metadata": {},
   "outputs": [
    {
     "ename": "TypeError",
     "evalue": "get_sun() missing 1 required positional argument: 'time'",
     "output_type": "error",
     "traceback": [
      "\u001b[0;31m---------------------------------------------------------------------------\u001b[0m",
      "\u001b[0;31mTypeError\u001b[0m                                 Traceback (most recent call last)",
      "\u001b[0;32m<ipython-input-2-e5ff209095bf>\u001b[0m in \u001b[0;36m<module>\u001b[0;34m\u001b[0m\n\u001b[1;32m      1\u001b[0m \u001b[0;32mfrom\u001b[0m \u001b[0mastropy\u001b[0m\u001b[0;34m.\u001b[0m\u001b[0mcoordinates\u001b[0m \u001b[0;32mimport\u001b[0m \u001b[0mget_sun\u001b[0m\u001b[0;34m\u001b[0m\u001b[0;34m\u001b[0m\u001b[0m\n\u001b[0;32m----> 2\u001b[0;31m \u001b[0mprint\u001b[0m\u001b[0;34m(\u001b[0m\u001b[0mget_sun\u001b[0m\u001b[0;34m(\u001b[0m\u001b[0;34m)\u001b[0m\u001b[0;34m)\u001b[0m\u001b[0;34m\u001b[0m\u001b[0;34m\u001b[0m\u001b[0m\n\u001b[0m",
      "\u001b[0;31mTypeError\u001b[0m: get_sun() missing 1 required positional argument: 'time'"
     ]
    }
   ],
   "source": [
    "from astropy.coordinates import get_sun\n",
    "print(get_sun())"
   ]
  },
  {
   "cell_type": "code",
   "execution_count": 14,
   "metadata": {},
   "outputs": [
    {
     "name": "stdout",
     "output_type": "stream",
     "text": [
      "0.454256rad\n",
      "26.02694222655561 deg\n",
      "0.454256rad\n"
     ]
    },
    {
     "name": "stderr",
     "output_type": "stream",
     "text": [
      "WARNING: SunpyDeprecationWarning: The get_sun_P function is deprecated and may be removed in a future version.\n",
      "        Use sunpy.coordinates.sun.P instead. [sunpy.util.decorators]\n"
     ]
    }
   ],
   "source": [
    "# from sunpy import sun\n",
    "import astropy.units as u\n",
    "\n",
    "# sun_np=sun.solar_north().deg * u.deg\n",
    "\n",
    "from sunpy.coordinates import get_sun_P\n",
    "\n",
    "print(get_sun_P().cgs)\n",
    "print(get_sun_P().deg*u.deg)\n",
    "\n",
    "from sunpy.coordinates import sun\n",
    "print(sun.P().cgs)\n",
    "\n"
   ]
  },
  {
   "cell_type": "code",
   "execution_count": 13,
   "metadata": {},
   "outputs": [
    {
     "name": "stdout",
     "output_type": "stream",
     "text": [
      "53.86317488679607 deg\n"
     ]
    }
   ],
   "source": [
    "import nustar_planning \n",
    "import importlib\n",
    "importlib.reload(nustar_planning)\n",
    "\n",
    "import astropy.units as u\n",
    "import numpy as np\n",
    "\n",
    "# print(nustar_planning.get_sky_position('2016-07-26T19:53:15.00', np.array([1000, 150]) * u.arcsec))\n",
    "\n",
    "print(nustar_planning.get_nustar_roll('2016-07-26T19:53:15.00', 45 * u.deg))\n",
    "\n",
    "\n",
    "# print(nustar_planning.get_skyfield_position('2016-07-26T19:53:15.00', np.array([1000, 150]) * u.arcsec))\n"
   ]
  }
 ],
 "metadata": {
  "kernelspec": {
   "display_name": "Python 3",
   "language": "python",
   "name": "python3"
  },
  "language_info": {
   "codemirror_mode": {
    "name": "ipython",
    "version": 3
   },
   "file_extension": ".py",
   "mimetype": "text/x-python",
   "name": "python",
   "nbconvert_exporter": "python",
   "pygments_lexer": "ipython3",
   "version": "3.7.3"
  }
 },
 "nbformat": 4,
 "nbformat_minor": 2
}
