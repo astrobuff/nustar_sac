{
 "cells": [
  {
   "cell_type": "code",
   "execution_count": 1,
   "metadata": {},
   "outputs": [
    {
     "name": "stdout",
     "output_type": "stream",
     "text": [
      "Filename: nu90410111001A06_cl_sunpos.evt\n",
      "No.    Name      Ver    Type      Cards   Dimensions   Format\n",
      "  0  PRIMARY       1 PrimaryHDU       4   ()      \n",
      "  1  EVENTS        1 BinTableHDU    405   9442R x 14C   [D, B, B, B, 2B, I, J, J, I, I, I, I, I, I]   \n",
      "  2  GTI           1 BinTableHDU     95   1R x 2C   [D, D]   \n"
     ]
    }
   ],
   "source": [
    "# Some very simple testing to check what the fits file looks like\n",
    "# what is the data and column headers etc\n",
    "\n",
    "from astropy.io import fits\n",
    "import numpy as np\n",
    "import nustar_pysolar as nustar\n",
    "\n",
    "dirin=''\n",
    "infile = 'nu90410111001A06_cl_sunpos.evt'\n",
    "\n",
    "# Load in the evt\n",
    "hdulist = fits.open(dirin+infile)\n",
    "hdulist.info()\n",
    "#evtdata=hdulist[1].data\n",
    "#hdr = hdulist[1].header\n",
    "#hdulist.close()\n"
   ]
  },
  {
   "cell_type": "code",
   "execution_count": 2,
   "metadata": {},
   "outputs": [
    {
     "data": {
      "text/plain": [
       "SIMPLE  =                    T / Dummy Created by MWRFITS v1.13                 \n",
       "BITPIX  =                    8 / Dummy primary header created by MWRFITS        \n",
       "NAXIS   =                    0 / No data is associated with this header         \n",
       "EXTEND  =                    T / Extensions may (will!) be present              "
      ]
     },
     "execution_count": 2,
     "metadata": {},
     "output_type": "execute_result"
    }
   ],
   "source": [
    "hdulist[0].header"
   ]
  },
  {
   "cell_type": "code",
   "execution_count": 3,
   "metadata": {},
   "outputs": [],
   "source": [
    "#hdulist[1].header"
   ]
  },
  {
   "cell_type": "code",
   "execution_count": 4,
   "metadata": {},
   "outputs": [
    {
     "data": {
      "text/plain": [
       "70.0321908915824"
      ]
     },
     "execution_count": 4,
     "metadata": {},
     "output_type": "execute_result"
    }
   ],
   "source": [
    "hdulist[1].header['EXPOSURE']"
   ]
  },
  {
   "cell_type": "code",
   "execution_count": 5,
   "metadata": {},
   "outputs": [
    {
     "name": "stderr",
     "output_type": "stream",
     "text": [
      "WARNING: VerifyWarning: Invalid keyword for column 13: Column coord_ref_value option (TCRVLn) must be a real floating type (got '0.0'). The invalid value will be ignored for the purpose of formatting the data in this column. [astropy.io.fits.column]\n",
      "WARNING: VerifyWarning: Invalid keyword for column 14: Column coord_ref_value option (TCRVLn) must be a real floating type (got '0.0'). The invalid value will be ignored for the purpose of formatting the data in this column. [astropy.io.fits.column]\n"
     ]
    },
    {
     "data": {
      "text/plain": [
       "FITS_rec([(2.75856515e+08, 3,  3,  0, [ 0, 16], 0, -18,  0, 202, 180, 338, 288, 1105, 1545),\n",
       "          (2.75856515e+08, 0,  5,  3, [ 0,  0], 0, -24, 21, 203, 213, 338, 321, 1106, 1578),\n",
       "          (2.75856515e+08, 1,  5, 22, [ 0,  0], 0, -20,  7, 151, 300, 287, 408, 1159, 1663),\n",
       "          ...,\n",
       "          (2.75856616e+08, 2, 19,  8, [ 0,  0], 0, -13,  7, 136,  85, 270, 194, 1174, 1450),\n",
       "          (2.75856616e+08, 0, 24, 20, [ 0,  0], 0,  -2, 16, 285, 304, 421, 411, 1028, 1671),\n",
       "          (2.75856616e+08, 3,  9,  6, [ 0,  0], 0, -42,  0, 233, 147, 368, 255, 1078, 1513)],\n",
       "         dtype=(numpy.record, [('TIME', '>f8'), ('DET_ID', 'u1'), ('RAWX', 'u1'), ('RAWY', 'u1'), ('STATUS', 'u1', (2,)), ('GRADE', '>i2'), ('SURRPI', '>i4'), ('PI', '>i4'), ('DET1X', '>i2'), ('DET1Y', '>i2'), ('DET2X', '>i2'), ('DET2Y', '>i2'), ('X', '>i2'), ('Y', '>i2')]))"
      ]
     },
     "execution_count": 5,
     "metadata": {},
     "output_type": "execute_result"
    }
   ],
   "source": [
    "hdulist[1].data"
   ]
  },
  {
   "cell_type": "code",
   "execution_count": 6,
   "metadata": {},
   "outputs": [
    {
     "data": {
      "text/plain": [
       "ColDefs(\n",
       "    name = 'TIME'; format = 'D'; unit = 's'\n",
       "    name = 'DET_ID'; format = 'B'; unit = 'NA'\n",
       "    name = 'RAWX'; format = 'B'; unit = 'NA'\n",
       "    name = 'RAWY'; format = 'B'; unit = 'NA'\n",
       "    name = 'STATUS'; format = '2B'\n",
       "    name = 'GRADE'; format = 'I'\n",
       "    name = 'SURRPI'; format = 'J'\n",
       "    name = 'PI'; format = 'J'; unit = 'chan'; null = -4095\n",
       "    name = 'DET1X'; format = 'I'; unit = 'pixel'; null = -4095; coord_type = 'DET1X'; coord_unit = 'mm'; coord_inc = 0.12096\n",
       "    name = 'DET1Y'; format = 'I'; unit = 'pixel'; null = -4095; coord_type = 'DET1Y'; coord_unit = 'mm'; coord_inc = 0.12096\n",
       "    name = 'DET2X'; format = 'I'; unit = 'pixel'; null = -4095; coord_type = 'DET2X'; coord_unit = 'mm'; coord_inc = 0.12096\n",
       "    name = 'DET2Y'; format = 'I'; unit = 'pixel'; null = -4095; coord_type = 'DET2Y'; coord_unit = 'mm'; coord_inc = 0.12096\n",
       "    name = 'X'; format = 'I'; unit = 'pixel'; null = -1; coord_type = 'RA---TAN'; coord_unit = 'deg'; coord_ref_point = 1500.0; coord_inc = -2.45810736\n",
       "    name = 'Y'; format = 'I'; unit = 'pixel'; null = -1; coord_type = 'DEC--TAN'; coord_unit = 'deg'; coord_ref_point = 1500.0; coord_inc = 2.45810736\n",
       ")"
      ]
     },
     "execution_count": 6,
     "metadata": {},
     "output_type": "execute_result"
    }
   ],
   "source": [
    "hdulist[1].columns"
   ]
  },
  {
   "cell_type": "code",
   "execution_count": 7,
   "metadata": {},
   "outputs": [
    {
     "data": {
      "text/plain": [
       "['TIME',\n",
       " 'DET_ID',\n",
       " 'RAWX',\n",
       " 'RAWY',\n",
       " 'STATUS',\n",
       " 'GRADE',\n",
       " 'SURRPI',\n",
       " 'PI',\n",
       " 'DET1X',\n",
       " 'DET1Y',\n",
       " 'DET2X',\n",
       " 'DET2Y',\n",
       " 'X',\n",
       " 'Y']"
      ]
     },
     "execution_count": 7,
     "metadata": {},
     "output_type": "execute_result"
    }
   ],
   "source": [
    "hdulist[1].columns.names"
   ]
  },
  {
   "cell_type": "code",
   "execution_count": 8,
   "metadata": {},
   "outputs": [
    {
     "data": {
      "text/plain": [
       "array([ 0, 21,  7, ...,  7, 16,  0], dtype=int32)"
      ]
     },
     "execution_count": 8,
     "metadata": {},
     "output_type": "execute_result"
    }
   ],
   "source": [
    "hdulist[1].data['PI']"
   ]
  },
  {
   "cell_type": "code",
   "execution_count": 9,
   "metadata": {},
   "outputs": [],
   "source": [
    "hdulist.close()"
   ]
  }
 ],
 "metadata": {
  "kernelspec": {
   "display_name": "Python 3",
   "language": "python",
   "name": "python3"
  },
  "language_info": {
   "codemirror_mode": {
    "name": "ipython",
    "version": 3
   },
   "file_extension": ".py",
   "mimetype": "text/x-python",
   "name": "python",
   "nbconvert_exporter": "python",
   "pygments_lexer": "ipython3",
   "version": "3.6.5"
  }
 },
 "nbformat": 4,
 "nbformat_minor": 2
}
